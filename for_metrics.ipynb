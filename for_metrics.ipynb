{
 "metadata": {
  "language_info": {
   "codemirror_mode": {
    "name": "ipython",
    "version": 3
   },
   "file_extension": ".py",
   "mimetype": "text/x-python",
   "name": "python",
   "nbconvert_exporter": "python",
   "pygments_lexer": "ipython3",
   "version": "3.8.5"
  },
  "orig_nbformat": 2,
  "kernelspec": {
   "name": "python385jvsc74a57bd013427881f06f13311079f5221e5dd632fdf9146891f6da22d47a93dcb9272d3a",
   "display_name": "Python 3.8.5 64-bit ('base': conda)"
  }
 },
 "nbformat": 4,
 "nbformat_minor": 2,
 "cells": [
  {
   "cell_type": "code",
   "execution_count": 54,
   "metadata": {},
   "outputs": [],
   "source": [
    "#metrics\n",
    "import os\n",
    "import numpy as np\n",
    "from PIL import Image"
   ]
  },
  {
   "cell_type": "code",
   "execution_count": 55,
   "metadata": {},
   "outputs": [],
   "source": [
    "\n",
    "dir_name = 'images/predictions'\n",
    "# Get list of all files in a given directory sorted by name\n",
    "predictions = sorted( filter( lambda x: os.path.isfile(os.path.join(dir_name, x)),\n",
    "                        os.listdir(dir_name) ) )\n",
    "dir_name = 'images/targets'\n",
    "# Get list of all files in a given directory sorted by name\n",
    "targets = sorted( filter( lambda x: os.path.isfile(os.path.join(dir_name, x)),\n",
    "                        os.listdir(dir_name) ) )\n",
    "\n"
   ]
  },
  {
   "cell_type": "code",
   "execution_count": 56,
   "metadata": {},
   "outputs": [
    {
     "output_type": "stream",
     "name": "stdout",
     "text": [
      "6.21603125\n0.6732332707942464\n"
     ]
    }
   ],
   "source": [
    "def MSE(target, prediction):\n",
    "    squared_diff = (target -prediction) ** 2\n",
    "    summed = np.sum(squared_diff)\n",
    "    num_pix = target.shape[0] * target.shape[1] #img1 and 2 should have same shape\n",
    "    err = summed / num_pix\n",
    "    return err\n",
    "\n",
    "def iou_score(target, prediction):\n",
    "    intersection = np.logical_and(target, prediction)\n",
    "    union = np.logical_or(target, prediction)\n",
    "    iou_score = np.sum(intersection) / np.sum(union)\n",
    "    return iou_score\n",
    "\n",
    "MSE_total=0\n",
    "iou_score_total=0\n",
    "for i in range(len(predictions)):\n",
    "    target= np.asarray(Image.open('images/targets/'+targets[i]))\n",
    "    prediction=np.asarray(Image.open('images/predictions/'+predictions[i]))\n",
    "    MSE_total=MSE_total+MSE(prediction, target)\n",
    "    iou_score_total=iou_score_total+iou_score(prediction, target)\n",
    "\n",
    "MSE_result=MSE_total/len(predictions)\n",
    "iou_score_result=iou_score_total/len(predictions)\n",
    "print(MSE_result)\n",
    "print(iou_score_result)"
   ]
  },
  {
   "cell_type": "code",
   "execution_count": null,
   "metadata": {},
   "outputs": [],
   "source": []
  }
 ]
}