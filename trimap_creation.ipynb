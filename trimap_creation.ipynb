{
 "cells": [
  {
   "cell_type": "markdown",
   "metadata": {},
   "source": [
    "## Create trimaps"
   ]
  },
  {
   "source": [
    "### Import packages"
   ],
   "cell_type": "markdown",
   "metadata": {}
  },
  {
   "cell_type": "code",
   "execution_count": 1,
   "metadata": {},
   "outputs": [],
   "source": [
    "%matplotlib inline\n",
    "from trimap_module import trimap\n",
    "import cv2, os, sys\n",
    "import numpy as np\n",
    "import matplotlib.pyplot as plt"
   ]
  },
  {
   "cell_type": "code",
   "execution_count": null,
   "metadata": {},
   "outputs": [],
   "source": [
    "import os\n",
    "dir_name = 'images/DUTS-TR/DUTS-TR-Mask'\n",
    "# Get list of all files in a given directory sorted by name\n",
    "files = sorted( filter( lambda x: os.path.isfile(os.path.join(dir_name, x)),\n",
    "                        os.listdir(dir_name) ) )\n",
    "for i in files:\n",
    "    name   = dir_name+'/'+i # Specify the image path\n",
    "    number = i\n",
    "    print(name)\n",
    "    \n",
    "    title  = \"trimap\"\n",
    "    image  = cv2.imread(name, cv2.IMREAD_GRAYSCALE);\n",
    "    try:\n",
    "        trimap(image, title, size, number, erosion = False)\n",
    "    except:\n",
    "        print(\"An exception occurred\")"
   ]
  }
 ],
 "metadata": {
  "kernelspec": {
   "name": "python378jvsc74a57bd0330c452504126c17aaa06f78b4d77ed04e4f4c128be0c1e3bc6eb44d645a68c6",
   "display_name": "Python 3.7.9 64-bit ('tf_mat': conda)"
  },
  "language_info": {
   "codemirror_mode": {
    "name": "ipython",
    "version": 3
   },
   "file_extension": ".py",
   "mimetype": "text/x-python",
   "name": "python",
   "nbconvert_exporter": "python",
   "pygments_lexer": "ipython3",
   "version": "3.7.8"
  }
 },
 "nbformat": 4,
 "nbformat_minor": 2
}